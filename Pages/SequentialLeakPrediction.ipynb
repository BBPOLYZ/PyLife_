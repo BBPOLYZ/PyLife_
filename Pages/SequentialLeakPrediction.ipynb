{
 "cells": [
  {
   "cell_type": "code",
   "execution_count": 3,
   "id": "fd289da7-81bb-4777-95af-dcd90833355f",
   "metadata": {},
   "outputs": [
    {
     "name": "stderr",
     "output_type": "stream",
     "text": [
      "2024-07-15 04:28:53.752 \n",
      "  \u001b[33m\u001b[1mWarning:\u001b[0m to view this Streamlit app on a browser, run it with the following\n",
      "  command:\n",
      "\n",
      "    streamlit run C:\\Users\\21071252r\\Anaconda3\\envs\\Latest\\lib\\site-packages\\ipykernel_launcher.py [ARGUMENTS]\n",
      "2024-07-15 04:28:53.753 Session state does not function when running a script without `streamlit run`\n"
     ]
    }
   ],
   "source": [
    "import os\n",
    "os.chdir('D:/OneDrive - The Hong Kong Polytechnic University/PhD Database/CleanData/Sequential_Modeling/DataPlay')\n",
    "\n",
    "\n",
    "# Define the pages and their file paths\n",
    "pages = {'Home':'multipage-nav3.py',\n",
    "         'Continent Data':'pages/continentData.py',\n",
    "         'Country Data':'pages/countryData.py'}\n",
    "\n",
    "# Create a list of the page names\n",
    "page_list = list(pages.keys())\n",
    "\n",
    "def nav(current_page=page_list[0]):\n",
    "    with st.sidebar:\n",
    "        p = option_menu(\"Page Menu\", page_list, \n",
    "            default_index=page_list.index(current_page), \n",
    "            orientation=\"vertical\")\n",
    "\n",
    "        if current_page != p:\n",
    "            st.switch_page(pages[p])\n",
    "\n",
    "import streamlit as st\n",
    "import numpy as np\n",
    "from tensorflow.keras.models import load_model\n",
    "\n",
    "model_path = 'D:/OneDrive - The Hong Kong Polytechnic University/PhD Database/CleanData/Sequential_Modeling/DataPlay/ttnf1.keras'\n",
    "model = load_model(model_path)\n",
    "\n",
    "# Define a function for prediction\n",
    "def predict(spatial_data, temporal_data):\n",
    "    spatial_data = np.array(spatial_data).reshape(1, -1, 2)\n",
    "    temporal_data = np.array(temporal_data).reshape(1, -1, len(temporal_data[0]))\n",
    "    prediction = model.predict([spatial_data, temporal_data])\n",
    "    return prediction[0][0]\n",
    "\n",
    "# Streamlit app layout\n",
    "st.title('Single Point Prediction')\n",
    "\n",
    "# User input for spatial data\n",
    "st.subheader('Spatial Data')\n",
    "lat = st.number_input('Latitude', value=0.0)\n",
    "lon = st.number_input('Longitude', value=0.0)\n",
    "spatial_data = [[lat, lon]]\n",
    "\n",
    "# User input for temporal data\n",
    "st.subheader('Temporal Data')\n",
    "doi = st.number_input('DOI', value=0.0)\n",
    "timestamp = st.number_input('Timestamp', value=0.0)\n",
    "nopf = st.number_input('NOPF', value=0.0)\n",
    "time_prev_failure = st.number_input('Time of Previous Failure (Yrs.)', value=0.0)\n",
    "temporal_data = [[doi, timestamp, nopf, time_prev_failure]]\n",
    "\n",
    "# Prediction button\n",
    "if st.button('Predict'):\n",
    "    result = predict(spatial_data, temporal_data)\n",
    "    st.write(f'Prediction: {result}')"
   ]
  },
  {
   "cell_type": "code",
   "execution_count": null,
   "id": "0ffc0e60-d791-4081-b0f9-256d40af99ff",
   "metadata": {},
   "outputs": [],
   "source": []
  }
 ],
 "metadata": {
  "kernelspec": {
   "display_name": "Python 3 (ipykernel)",
   "language": "python",
   "name": "python3"
  },
  "language_info": {
   "codemirror_mode": {
    "name": "ipython",
    "version": 3
   },
   "file_extension": ".py",
   "mimetype": "text/x-python",
   "name": "python",
   "nbconvert_exporter": "python",
   "pygments_lexer": "ipython3",
   "version": "3.9.18"
  }
 },
 "nbformat": 4,
 "nbformat_minor": 5
}
